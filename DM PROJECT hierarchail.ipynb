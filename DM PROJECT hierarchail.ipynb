{
 "cells": [
  {
   "cell_type": "code",
   "execution_count": 27,
   "metadata": {},
   "outputs": [],
   "source": [
    "# hierarchail"
   ]
  },
  {
   "cell_type": "code",
   "execution_count": 1,
   "metadata": {},
   "outputs": [],
   "source": [
    "import numpy as np\n",
    "import pandas as pd\n",
    "import scipy.cluster.hierarchy as sch\n",
    "from sklearn.cluster import AgglomerativeClustering\n",
    "import matplotlib.pyplot as plt"
   ]
  },
  {
   "cell_type": "code",
   "execution_count": 2,
   "metadata": {},
   "outputs": [],
   "source": [
    "data= pd.read_csv('chipotle_stores.csv')\n",
    "# read csv file "
   ]
  },
  {
   "cell_type": "code",
   "execution_count": 3,
   "metadata": {},
   "outputs": [
    {
     "data": {
      "text/html": [
       "<div>\n",
       "<style scoped>\n",
       "    .dataframe tbody tr th:only-of-type {\n",
       "        vertical-align: middle;\n",
       "    }\n",
       "\n",
       "    .dataframe tbody tr th {\n",
       "        vertical-align: top;\n",
       "    }\n",
       "\n",
       "    .dataframe thead th {\n",
       "        text-align: right;\n",
       "    }\n",
       "</style>\n",
       "<table border=\"1\" class=\"dataframe\">\n",
       "  <thead>\n",
       "    <tr style=\"text-align: right;\">\n",
       "      <th></th>\n",
       "      <th>state</th>\n",
       "      <th>location</th>\n",
       "      <th>address</th>\n",
       "      <th>latitude</th>\n",
       "      <th>longitude</th>\n",
       "    </tr>\n",
       "  </thead>\n",
       "  <tbody>\n",
       "    <tr>\n",
       "      <th>0</th>\n",
       "      <td>Alabama</td>\n",
       "      <td>Auburn</td>\n",
       "      <td>346 W Magnolia Ave Auburn, AL 36832 US</td>\n",
       "      <td>32.606813</td>\n",
       "      <td>-85.487328</td>\n",
       "    </tr>\n",
       "    <tr>\n",
       "      <th>1</th>\n",
       "      <td>Alabama</td>\n",
       "      <td>Birmingham</td>\n",
       "      <td>300 20th St S Birmingham, AL 35233 US</td>\n",
       "      <td>33.509721</td>\n",
       "      <td>-86.802756</td>\n",
       "    </tr>\n",
       "    <tr>\n",
       "      <th>2</th>\n",
       "      <td>Alabama</td>\n",
       "      <td>Birmingham</td>\n",
       "      <td>3220 Morrow Rd Birmingham, AL 35235 US</td>\n",
       "      <td>33.595581</td>\n",
       "      <td>-86.647437</td>\n",
       "    </tr>\n",
       "    <tr>\n",
       "      <th>3</th>\n",
       "      <td>Alabama</td>\n",
       "      <td>Birmingham</td>\n",
       "      <td>4719 Highway 280 Birmingham, AL 35242 US</td>\n",
       "      <td>33.422582</td>\n",
       "      <td>-86.698279</td>\n",
       "    </tr>\n",
       "    <tr>\n",
       "      <th>4</th>\n",
       "      <td>Alabama</td>\n",
       "      <td>Cullman</td>\n",
       "      <td>1821 Cherokee Ave SW Cullman, AL 35055 US</td>\n",
       "      <td>34.154134</td>\n",
       "      <td>-86.841220</td>\n",
       "    </tr>\n",
       "    <tr>\n",
       "      <th>...</th>\n",
       "      <td>...</td>\n",
       "      <td>...</td>\n",
       "      <td>...</td>\n",
       "      <td>...</td>\n",
       "      <td>...</td>\n",
       "    </tr>\n",
       "    <tr>\n",
       "      <th>2624</th>\n",
       "      <td>Wisconsin</td>\n",
       "      <td>Pleasant Prairie</td>\n",
       "      <td>9370 76th St # B Pleasant Prairie, WI 53158 US</td>\n",
       "      <td>42.565892</td>\n",
       "      <td>-87.921048</td>\n",
       "    </tr>\n",
       "    <tr>\n",
       "      <th>2625</th>\n",
       "      <td>Wisconsin</td>\n",
       "      <td>Wauwatosa</td>\n",
       "      <td>2711 N Mayfair Rd Ste A Wauwatosa, WI 53222 US</td>\n",
       "      <td>43.067723</td>\n",
       "      <td>-88.048222</td>\n",
       "    </tr>\n",
       "    <tr>\n",
       "      <th>2626</th>\n",
       "      <td>North Dakota</td>\n",
       "      <td>Fargo</td>\n",
       "      <td>1204 19th Ave N Fargo, ND 58102 US</td>\n",
       "      <td>46.904247</td>\n",
       "      <td>-96.796618</td>\n",
       "    </tr>\n",
       "    <tr>\n",
       "      <th>2627</th>\n",
       "      <td>North Dakota</td>\n",
       "      <td>Fargo</td>\n",
       "      <td>1680 45th St S Fargo, ND 58103 US</td>\n",
       "      <td>46.855337</td>\n",
       "      <td>-96.861416</td>\n",
       "    </tr>\n",
       "    <tr>\n",
       "      <th>2628</th>\n",
       "      <td>Wyoming</td>\n",
       "      <td>Cheyenne</td>\n",
       "      <td>1508 Dell Range Blvd Cheyenne, WY 82009 US</td>\n",
       "      <td>41.160718</td>\n",
       "      <td>-104.805699</td>\n",
       "    </tr>\n",
       "  </tbody>\n",
       "</table>\n",
       "<p>2629 rows × 5 columns</p>\n",
       "</div>"
      ],
      "text/plain": [
       "             state          location  \\\n",
       "0          Alabama            Auburn   \n",
       "1          Alabama        Birmingham   \n",
       "2          Alabama        Birmingham   \n",
       "3          Alabama        Birmingham   \n",
       "4          Alabama           Cullman   \n",
       "...            ...               ...   \n",
       "2624     Wisconsin  Pleasant Prairie   \n",
       "2625     Wisconsin         Wauwatosa   \n",
       "2626  North Dakota             Fargo   \n",
       "2627  North Dakota             Fargo   \n",
       "2628       Wyoming          Cheyenne   \n",
       "\n",
       "                                             address   latitude   longitude  \n",
       "0             346 W Magnolia Ave Auburn, AL 36832 US  32.606813  -85.487328  \n",
       "1              300 20th St S Birmingham, AL 35233 US  33.509721  -86.802756  \n",
       "2             3220 Morrow Rd Birmingham, AL 35235 US  33.595581  -86.647437  \n",
       "3           4719 Highway 280 Birmingham, AL 35242 US  33.422582  -86.698279  \n",
       "4          1821 Cherokee Ave SW Cullman, AL 35055 US  34.154134  -86.841220  \n",
       "...                                              ...        ...         ...  \n",
       "2624  9370 76th St # B Pleasant Prairie, WI 53158 US  42.565892  -87.921048  \n",
       "2625  2711 N Mayfair Rd Ste A Wauwatosa, WI 53222 US  43.067723  -88.048222  \n",
       "2626              1204 19th Ave N Fargo, ND 58102 US  46.904247  -96.796618  \n",
       "2627               1680 45th St S Fargo, ND 58103 US  46.855337  -96.861416  \n",
       "2628      1508 Dell Range Blvd Cheyenne, WY 82009 US  41.160718 -104.805699  \n",
       "\n",
       "[2629 rows x 5 columns]"
      ]
     },
     "execution_count": 3,
     "metadata": {},
     "output_type": "execute_result"
    }
   ],
   "source": [
    "data"
   ]
  },
  {
   "cell_type": "code",
   "execution_count": 4,
   "metadata": {},
   "outputs": [],
   "source": [
    "data = data.iloc[:, 3:5].values\n",
    "# choosing the needed columns to be clustered "
   ]
  },
  {
   "cell_type": "code",
   "execution_count": null,
   "metadata": {},
   "outputs": [],
   "source": [
    "# performing dendogram for visualization"
   ]
  },
  {
   "cell_type": "code",
   "execution_count": 5,
   "metadata": {},
   "outputs": [
    {
     "data": {
      "image/png": "[encoded data removed]",
      "text/plain": [
       "<Figure size 432x288 with 1 Axes>"
      ]
     },
     "metadata": {
      "needs_background": "light"
     },
     "output_type": "display_data"
    }
   ],
   "source": [
    "dendrogram= sch.dendrogram(sch.linkage(data ,'single'))\n",
    "plt.title('dendrogram')\n",
    "plt.xlabel('X Values')\n",
    "plt.ylabel('Distances')\n",
    "plt.show()"
   ]
  },
  {
   "cell_type": "code",
   "execution_count": 8,
   "metadata": {},
   "outputs": [
    {
     "data": {
      "text/plain": [
       "array([2, 2, 2, ..., 2, 2, 2], dtype=int64)"
      ]
     },
     "execution_count": 8,
     "metadata": {},
     "output_type": "execute_result"
    }
   ],
   "source": [
    "cluster = AgglomerativeClustering(n_clusters=3,affinity='euclidean', linkage='single')\n",
    "cluster.fit_predict(data)\n",
    "# making object from AgglomerativeClustering class"
   ]
  },
  {
   "cell_type": "code",
   "execution_count": 9,
   "metadata": {},
   "outputs": [
    {
     "data": {
      "text/plain": [
       "Text(0, 0.5, 'longitude')"
      ]
     },
     "execution_count": 9,
     "metadata": {},
     "output_type": "execute_result"
    },
    {
     "data": {
      "image/png": "[encoded data removed]",
      "text/plain": [
       "<Figure size 432x288 with 1 Axes>"
      ]
     },
     "metadata": {
      "needs_background": "light"
     },
     "output_type": "display_data"
    }
   ],
   "source": [
    "plt.scatter( data[:,0], data[:,1], c=cluster.labels_, cmap='rainbow')\n",
    "plt.title('Clusters of CREDIT CARD')\n",
    "plt.xlabel('latitude')\n",
    "plt.ylabel('longitude')\n",
    "# scattering the data "
   ]
  },
  {
   "cell_type": "code",
   "execution_count": null,
   "metadata": {},
   "outputs": [],
   "source": []
  }
 ],
 "metadata": {
  "kernelspec": {
   "display_name": "Python 3",
   "language": "python",
   "name": "python3"
  },
  "language_info": {
   "codemirror_mode": {
    "name": "ipython",
    "version": 3
   },
   "file_extension": ".py",
   "mimetype": "text/x-python",
   "name": "python",
   "nbconvert_exporter": "python",
   "pygments_lexer": "ipython3",
   "version": "3.8.5"
  }
 },
 "nbformat": 4,
 "nbformat_minor": 4
}
